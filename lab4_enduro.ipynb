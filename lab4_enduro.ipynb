{
 "cells": [
  {
   "cell_type": "markdown",
   "metadata": {},
   "source": [
    "# Yuyang Liang and Antoine Sevec AI Enduro project"
   ]
  },
  {
   "cell_type": "markdown",
   "metadata": {},
   "source": [
    "## Imports"
   ]
  },
  {
   "cell_type": "code",
   "execution_count": 1,
   "metadata": {},
   "outputs": [
    {
     "name": "stdout",
     "output_type": "stream",
     "text": [
      "pygame 2.1.2 (SDL 2.0.18, Python 3.9.7)\n",
      "Hello from the pygame community. https://www.pygame.org/contribute.html\n"
     ]
    }
   ],
   "source": [
    "import gym\n",
    "import imageio\n",
    "import numpy as np\n",
    "from gym.utils.play import play\n",
    "import pygame\n",
    "import matplotlib\n",
    "import argparse\n",
    "from gym import logger\n",
    "import tensorflow as tf\n",
    "from tensorflow.keras.models import Sequential\n",
    "from tensorflow.keras.layers import Input, Conv2D, MaxPool2D, Flatten, Dense\n",
    "from tensorflow.keras.utils import to_categorical\n",
    "from sklearn.model_selection import train_test_split"
   ]
  },
  {
   "cell_type": "markdown",
   "metadata": {},
   "source": [
    "## Recording training Data"
   ]
  },
  {
   "cell_type": "code",
   "execution_count": null,
   "metadata": {},
   "outputs": [],
   "source": [
    "#%% record training data\n",
    "def mycallback(obs_t, obs_tp1, action, rew, done, info):\n",
    "    #print(\"action = \", action, \" reward = \", rew, \"done = \", done)\n",
    "    list2 = [action]\n",
    "    vector1 = np.array(list2)\n",
    "    #imageio.imwrite('outfile.png', (obs_t-obs_tp1))#[55:155:2, 20:160:2, 1])\n",
    "    with open('X_enduro.txt', 'a') as outfileX:\n",
    "       np.savetxt(outfileX, delimiter=',', X=(obs_t)[55:155:2, 20:160:2, 1], fmt='%d')\n",
    "    with open('Y_enduro.txt', 'a') as outfileY:\n",
    "        np.savetxt(outfileY, delimiter='', X=vector1, fmt='%d')\n",
    "    #return [action,]\n",
    "\n",
    "#plotter = gym.utils.play.PlayPlot(mycallback, 30 * 5, [\"action\"]) #plot in real-time\n",
    "\n",
    "env = gym.make(\"Enduro-v0\")\n",
    "\n",
    "play(env, zoom=4, fps=30, callback=mycallback)\n",
    "env.close()"
   ]
  },
  {
   "cell_type": "markdown",
   "metadata": {},
   "source": [
    "## Load the dataset"
   ]
  },
  {
   "cell_type": "code",
   "execution_count": null,
   "metadata": {},
   "outputs": [],
   "source": [
    "#%% load the dataset\n",
    "#   X,Y is the training and label dataset\n",
    "size_of_input = [70,50]\n",
    "size_of_label = 9\n",
    "\n",
    "X = np.loadtxt('X_enduro.txt',delimiter=',')\n",
    "Y_data = np.loadtxt('Y_enduro.txt',delimiter=',')\n",
    "X = X.reshape((Y_data.size,size_of_input[0],size_of_input[1],1))\n",
    "\n",
    "Y=np.empty([0,size_of_label])   # size of Y is (number of sample data,9), each column represents the action\n",
    "for i in Y_data:  #label encoding\n",
    "    for j in range(size_of_label):\n",
    "        if i == j:\n",
    "            arr = np.zeros(size_of_label)\n",
    "            arr[j]=1\n",
    "            Y=np.append(Y,arr)\n",
    "            \n",
    "Y=Y.reshape(Y_data.size,size_of_label)\n",
    "\n",
    "# split the data\n",
    "x_train, x_test, y_train, y_test = train_test_split(\n",
    "    X, Y, test_size=0.20, random_state=np.random)\n"
   ]
  },
  {
   "cell_type": "markdown",
   "metadata": {},
   "source": [
    "## Build the model"
   ]
  },
  {
   "cell_type": "code",
   "execution_count": null,
   "metadata": {},
   "outputs": [],
   "source": [
    "#%% build the model\n",
    "model = Sequential()\n",
    "\n",
    "model.add(Input(shape=(size_of_input[0],size_of_input[1],1)))\n",
    "model.add(Conv2D(filters=3, kernel_size=(6, 6), activation='relu',strides=(2, 2)))\n",
    "#model.add(Conv2D(filters=3, kernel_size=(6, 6), activation='relu',strides=(1, 1)))\n",
    "model.add(tf.keras.layers.MaxPool2D(\n",
    "    pool_size=(2, 2), strides=(3,3), padding='same'))\n",
    "#model.add(Conv2D(filters=1, kernel_size=(2, 2), activation='softmax',strides=(2, 2), padding='same'))\n",
    "model.add(Flatten())\n",
    "#model.add(Dense(units=1000, activation='relu'))\n",
    "model.add(Dense(units=200, activation='relu'))\n",
    "model.add(Dense(units=100, activation='relu'))\n",
    "model.add(Dense(units=10, activation='sigmoid'))\n",
    "model.add(Dense(units=size_of_label, activation='sigmoid'))\n",
    "opt = tf.keras.optimizers.Adam(learning_rate=1*10e-4)  #change learning rate here\n",
    "model.summary()\n",
    "model.compile(optimizer=opt, loss='categorical_crossentropy', metrics=['categorical_accuracy'])\n"
   ]
  },
  {
   "cell_type": "markdown",
   "metadata": {},
   "source": [
    "## Train the model"
   ]
  },
  {
   "cell_type": "code",
   "execution_count": null,
   "metadata": {},
   "outputs": [],
   "source": [
    "#%%train the model\n",
    "\n",
    "history = model.fit(x_train, y_train, epochs=50, validation_data=(x_test, y_test))\n",
    "#zz=model.predict(x_test) #see the prediction"
   ]
  },
  {
   "cell_type": "markdown",
   "metadata": {},
   "source": [
    "### Optional : plotting the result"
   ]
  },
  {
   "cell_type": "code",
   "execution_count": null,
   "metadata": {},
   "outputs": [],
   "source": [
    "#%% plot the result\n",
    "\n",
    "import matplotlib.pyplot as plt\n",
    "\n",
    "plt.title('model accuracy')\n",
    "plt.ylabel('accuracy')\n",
    "plt.xlabel('epoch')\n",
    "plt.legend(['train', 'test'], loc='upper left')\n",
    "plt.plot(history.history['categorical_accuracy'])\n",
    "plt.plot(history.history['val_categorical_accuracy'])\n",
    "#plt.show()\n"
   ]
  },
  {
   "cell_type": "markdown",
   "metadata": {},
   "source": [
    "## Model evaluation"
   ]
  },
  {
   "cell_type": "code",
   "execution_count": null,
   "metadata": {},
   "outputs": [],
   "source": [
    "#%%  model evaluation\n",
    "\n",
    "model.evaluate(x_test, y_test, verbose=2)\n",
    "pred_test = model.predict(x_test)\n",
    "print(tf.math.confusion_matrix(y_test.argmax(axis=1), pred_test.argmax(axis=1)))\n",
    "\n",
    "# you can save the model here\n",
    "#model.save('pong_game.h5')\n",
    "#%%\n",
    "# use model.predict() to get the prediction from input\n",
    "#zz=model.predict(x_test)\n",
    "\n",
    "#model.save('enduro_game1.h5')\n",
    "\n",
    "#model=tf.keras.models.load_model('enduro_game1.h5')"
   ]
  },
  {
   "cell_type": "markdown",
   "metadata": {},
   "source": [
    "## Run the agent "
   ]
  },
  {
   "cell_type": "code",
   "execution_count": null,
   "metadata": {},
   "outputs": [],
   "source": [
    "#%% run the agent\n",
    "import gym\n",
    "import pygame\n",
    "env = gym.make('Enduro-v0')\n",
    "fps=30 #30 frame per second is default ratio\n",
    "max_iteration = 1000\n",
    "size_of_input = [70,50]\n",
    "zoom = 4\n",
    "#size_of_label = 9\n",
    "\n",
    "def action_mapping(array):\n",
    "    #i = np.nonzero(array)[0][0] #return the index of the action\n",
    "    i = np.argmax(array)\n",
    "    return i\n",
    "\n",
    "obs = env.reset()[55:155:2, 20:160:2, 1].reshape(1,size_of_input[0],size_of_input[1],1)\n",
    "action = np.array([1]) # first action = 0\n",
    "#size_of_input[0],size_of_input[1]\n",
    "\n",
    "for t in range(max_iteration): #the part of prediction is slow due to the tensor operation\n",
    "#while(1):\n",
    "    env.render()\n",
    "    if action[t] !=0:\n",
    "        print(\"action:\",action[t])    \n",
    "    obs,rew,d,inf=env.step(action[t]) # take a predicted action\n",
    "    obs = obs[55:155:2, 20:160:2, 1].reshape(1,size_of_input[0],size_of_input[1],1) #reshape to fit in the input layer of model\n",
    "    action = np.append(action,action_mapping(model.predict(obs)))\n",
    "    if rew != 0:\n",
    "        print(\"reward: \", rew)\n",
    "    #pygame.time.Clock().tick(fps)\n",
    "env.close()"
   ]
  },
  {
   "cell_type": "markdown",
   "metadata": {},
   "source": [
    "## Conclusion"
   ]
  },
  {
   "cell_type": "code",
   "execution_count": null,
   "metadata": {},
   "outputs": [],
   "source": []
  }
 ],
 "metadata": {
  "kernelspec": {
   "display_name": "Python 3",
   "language": "python",
   "name": "python3"
  },
  "language_info": {
   "codemirror_mode": {
    "name": "ipython",
    "version": 3
   },
   "file_extension": ".py",
   "mimetype": "text/x-python",
   "name": "python",
   "nbconvert_exporter": "python",
   "pygments_lexer": "ipython3",
   "version": "3.8.5"
  }
 },
 "nbformat": 4,
 "nbformat_minor": 5
}
